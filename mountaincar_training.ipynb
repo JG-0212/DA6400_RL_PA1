{
 "cells": [
  {
   "cell_type": "code",
   "execution_count": null,
   "id": "dc6f43fd-9fe6-44e0-9a70-3b90a2c329be",
   "metadata": {},
   "outputs": [],
   "source": [
    "import gymnasium as gym\n",
    "from gymnasium.wrappers import RecordVideo\n",
    "import matplotlib.pyplot as plt\n",
    "import numpy as np\n",
    "\n",
    "from scripts.agents import QLearningAgent, SARSAAgent\n",
    "from scripts.training import Trainer, trainingInspector, test_agent, plot_test_results\n",
    "from scripts.tilecoding import QTable"
   ]
  },
  {
   "cell_type": "markdown",
   "id": "416f0af8-ff5d-4240-a546-e508f12387ab",
   "metadata": {},
   "source": [
    "### Top 3 hyperparameters for Q-Learning and SARSA"
   ]
  },
  {
   "cell_type": "code",
   "execution_count": null,
   "id": "3b8c533b-641f-44ae-84e3-5c57e3e0a594",
   "metadata": {},
   "outputs": [],
   "source": [
    "# Top 3 hyperparameters for Q-Learning and SARSA\n",
    "qlearning_hyperparameter_list = [\n",
    "    \n",
    "    # Best performing hyperparameters\n",
    "    {\n",
    "        \"num_episodes\": 10000,\n",
    "        \"max_return\": -100,\n",
    "        \"num_tiles_per_feature\": 20,\n",
    "        \"num_tilings\": 1,\n",
    "        \"learning_rate\": 0.1,\n",
    "        \"tau_start\": 100000,\n",
    "        \"tau_end\": 0.1,\n",
    "        \"decay_type\": \"exponential\",\n",
    "        \"frac_episodes_to_decay\": 0.1\n",
    "    }\n",
    "    # Second best performing hyperparameters\n",
    "    # {\n",
    "    #     \"num_episodes\": 10000,\n",
    "    #     \"max_return\": -100,\n",
    "    #     \"num_tiles_per_feature\": 20,\n",
    "    #     \"num_tilings\": 1,\n",
    "    #     \"learning_rate\": 0.1,\n",
    "    #     \"tau_start\": 100000,\n",
    "    #     \"tau_end\": 0.1,\n",
    "    #     \"decay_type\": \"exponential\",\n",
    "    #     \"frac_episodes_to_decay\": 0.1\n",
    "    # }\n",
    "    # Third best performing hyperparameters\n",
    "    # {\n",
    "    #     \"num_episodes\": 10000,\n",
    "    #     \"max_return\": -100,\n",
    "    #     \"num_tiles_per_feature\": 20,\n",
    "    #     \"num_tilings\": 1,\n",
    "    #     \"learning_rate\": 0.1,\n",
    "    #     \"tau_start\": 100000,\n",
    "    #     \"tau_end\": 0.1,\n",
    "    #     \"decay_type\": \"exponential\",\n",
    "    #     \"frac_episodes_to_decay\": 0.1\n",
    "    # }\n",
    "    \n",
    "]\n",
    "\n",
    "sarsa_hyperparameter_list = [\n",
    "    \n",
    "    # Best performing hyperparameters\n",
    "    {\n",
    "        \"num_episodes\": 10000,\n",
    "        \"max_return\": -100,\n",
    "        \"num_tiles_per_feature\": 20,\n",
    "        \"num_tilings\": 4,\n",
    "        \"learning_rate\": 0.1,\n",
    "        \"eps_start\": 1,\n",
    "        \"eps_end\": 0.01,\n",
    "        \"decay_type\": \"exponential\",\n",
    "        \"frac_episodes_to_decay\": 0.5\n",
    "    }\n",
    "    # Second best performing hyperparameters\n",
    "    # {\n",
    "    #     \"num_episodes\": 10000,\n",
    "    #     \"max_return\": -100,\n",
    "    #     \"num_tiles_per_feature\": 20,\n",
    "    #     \"num_tilings\": 4,\n",
    "    #     \"learning_rate\": 0.1,\n",
    "    #     \"eps_start\": 1,\n",
    "    #     \"eps_end\": 0.01,\n",
    "    #     \"decay_type\": \"exponential\",\n",
    "    #     \"frac_episodes_to_decay\": 0.5\n",
    "    # }\n",
    "    # Third best performing hyperparameters\n",
    "    # {\n",
    "    #     \"num_episodes\": 10000,\n",
    "    #     \"max_return\": -100,\n",
    "    #     \"num_tiles_per_feature\": 20,\n",
    "    #     \"num_tilings\": 4,\n",
    "    #     \"learning_rate\": 0.1,\n",
    "    #     \"eps_start\": 1,\n",
    "    #     \"eps_end\": 0.01,\n",
    "    #     \"decay_type\": \"exponential\",\n",
    "    #     \"frac_episodes_to_decay\": 0.5\n",
    "    # }\n",
    "]\n"
   ]
  },
  {
   "cell_type": "markdown",
   "id": "447285fe-1a90-4bce-a7cd-eb0a06ffd0b6",
   "metadata": {},
   "source": [
    "## Running experiments - No Reward shaping"
   ]
  },
  {
   "cell_type": "code",
   "execution_count": null,
   "id": "bd287b3d-3788-4bcc-bf90-cf7c9ce913b2",
   "metadata": {},
   "outputs": [],
   "source": [
    "def episode_trigger(x):\n",
    "    if x % 1000 == 0:\n",
    "        return True\n",
    "    return False"
   ]
  },
  {
   "cell_type": "code",
   "execution_count": null,
   "id": "7ea2a030-617b-4470-9245-a44182a62460",
   "metadata": {},
   "outputs": [],
   "source": [
    "env = gym.make('MountainCar-v0', render_mode=\"rgb_array\")\n",
    "env = RecordVideo(\n",
    "    env,\n",
    "    video_folder=\"backups/mountaincar-qlearning-visualizations\",\n",
    "    name_prefix=\"eval\",\n",
    "    episode_trigger=episode_trigger\n",
    ")\n",
    "\n",
    "qlearning_agent = QLearningAgent(\n",
    "    state_space=env.observation_space,\n",
    "    action_space=env.action_space,\n",
    "    seed=0\n",
    ")\n",
    "\n",
    "sarsa_agent = SARSAAgent(\n",
    "    state_space=env.observation_space,\n",
    "    action_space=env.action_space,\n",
    "    seed=0\n",
    ")\n",
    "\n",
    "trainer = Trainer()\n",
    "qlearning_results = test_agent(env, qlearning_agent, trainer, qlearning_hyperparameter_list, num_experiments=1)\n",
    "sarsa_results = test_agent(env, sarsa_agent, trainer, sarsa_hyperparameter_list, num_experiments=1)\n",
    "\n",
    "env.close()"
   ]
  },
  {
   "cell_type": "markdown",
   "id": "9cd30ebf-fd50-4d53-9a91-1ae25ae28943",
   "metadata": {},
   "source": [
    "## Reward Shaping experiment"
   ]
  },
  {
   "cell_type": "code",
   "execution_count": null,
   "id": "3d95887d-d21d-417c-92c4-caba1d953e3c",
   "metadata": {},
   "outputs": [],
   "source": [
    "class RewShaper(gym.Wrapper):\n",
    "\n",
    "    def __init__(self, env):\n",
    "        super().__init__(env)\n",
    "        self.prev_vel = 0\n",
    "\n",
    "    def step(self, action):\n",
    "        observation, reward, terminated, truncated, info = self.env.step(action)\n",
    "        reward += 100*(action-1)*self.prev_vel\n",
    "        self.prev_vel = observation[1]\n",
    "        return observation, reward, terminated, truncated, info\n",
    "\n",
    "class MountainCarTrainer(Trainer):\n",
    "    def compute_score(self, reward):\n",
    "        return -1"
   ]
  },
  {
   "cell_type": "code",
   "execution_count": null,
   "id": "99ae5621-d7f4-4bd7-a24f-cc81af8c38ac",
   "metadata": {},
   "outputs": [],
   "source": [
    "env = gym.make('MountainCar-v0', render_mode=\"rgb_array\")\n",
    "env = RecordVideo(\n",
    "    env,\n",
    "    video_folder=\"backups/mountaincar-qlearning-visualizations\",\n",
    "    name_prefix=\"eval\",\n",
    "    episode_trigger=episode_trigger\n",
    ")\n",
    "env = RewShaper(env)\n",
    "\n",
    "qlearning_agent = QLearningAgent(\n",
    "    state_space=env.observation_space,\n",
    "    action_space=env.action_space,\n",
    "    seed=0\n",
    ")\n",
    "\n",
    "sarsa_agent = SARSAAgent(\n",
    "    state_space=env.observation_space,\n",
    "    action_space=env.action_space,\n",
    "    seed=0\n",
    ")\n",
    "\n",
    "trainer = MountainCarTrainer()\n",
    "qlearning_results = test_agent(env, qlearning_agent, trainer, qlearning_hyperparameter_list, num_experiments=1)\n",
    "sarsa_results = test_agent(env, sarsa_agent, trainer, sarsa_hyperparameter_list, num_experiments=1)\n",
    "\n",
    "env.close()"
   ]
  },
  {
   "cell_type": "code",
   "execution_count": null,
   "id": "c66050cc-1480-4d82-9d6e-62ff01fa1208",
   "metadata": {},
   "outputs": [],
   "source": [
    "combined_results = qlearning_results\n",
    "plot_test_results(combined_results, [0])"
   ]
  },
  {
   "cell_type": "code",
   "execution_count": null,
   "id": "64c8fef1-c1d9-433f-a541-62b9082e4098",
   "metadata": {},
   "outputs": [],
   "source": [
    "table = np.array(qlearning_agent.q_table.table)\n",
    "im = np.reshape(table, (20,20,3))\n",
    "im = (im-np.min(im))/(np.max(im)-np.min(im))\n",
    "plt.imshow(im)"
   ]
  },
  {
   "cell_type": "code",
   "execution_count": null,
   "id": "f749c9c4-3a0b-4936-ae6f-88f6f614eb66",
   "metadata": {},
   "outputs": [],
   "source": []
  }
 ],
 "metadata": {
  "kernelspec": {
   "display_name": "rl_env",
   "language": "python",
   "name": "rl_env"
  },
  "language_info": {
   "codemirror_mode": {
    "name": "ipython",
    "version": 3
   },
   "file_extension": ".py",
   "mimetype": "text/x-python",
   "name": "python",
   "nbconvert_exporter": "python",
   "pygments_lexer": "ipython3",
   "version": "3.10.12"
  }
 },
 "nbformat": 4,
 "nbformat_minor": 5
}
