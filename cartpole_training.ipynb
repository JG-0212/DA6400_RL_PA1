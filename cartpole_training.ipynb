{
 "cells": [
  {
   "cell_type": "code",
   "execution_count": 1,
   "id": "dc6f43fd-9fe6-44e0-9a70-3b90a2c329be",
   "metadata": {},
   "outputs": [],
   "source": [
    "import gymnasium as gym\n",
    "from gymnasium.wrappers import RecordVideo\n",
    "import matplotlib.pyplot as plt\n",
    "import numpy as np\n",
    "\n",
    "from scripts.agents import QLearningAgent, SARSAAgent\n",
    "from scripts.training import Trainer, trainingInspector, test_agent, plot_test_results\n",
    "from scripts.tilecoding import QTable"
   ]
  },
  {
   "cell_type": "markdown",
   "id": "416f0af8-ff5d-4240-a546-e508f12387ab",
   "metadata": {},
   "source": [
    "### Top 3 hyperparameters for Q-Learning and SARSA"
   ]
  },
  {
   "cell_type": "code",
   "execution_count": 2,
   "id": "3b8c533b-641f-44ae-84e3-5c57e3e0a594",
   "metadata": {},
   "outputs": [],
   "source": [
    "# Top 3 hyperparameters for Q-Learning and SARSA\n",
    "qlearning_hyperparameter_list = [\n",
    "    \n",
    "    # Best performing hyperparameters\n",
    "    {\n",
    "        \"num_episodes\": 10000,\n",
    "        \"max_return\": 500,\n",
    "        \"num_tiles_per_feature\": 30,\n",
    "        \"num_tilings\": 1,\n",
    "        \"learning_rate\": 0.1,\n",
    "        \"tau_start\": 10000,\n",
    "        \"tau_end\": 0.1,\n",
    "        \"decay_type\": \"exponential\",\n",
    "        \"frac_episodes_to_decay\": 0.7\n",
    "    }\n",
    "    # Second best performing hyperparameters\n",
    "    # {\n",
    "    #     \"num_episodes\": 10000,\n",
    "    #     \"max_return\": -100,\n",
    "    #     \"num_tiles_per_feature\": 20,\n",
    "    #     \"num_tilings\": 1,\n",
    "    #     \"learning_rate\": 0.1,\n",
    "    #     \"tau_start\": 100000,\n",
    "    #     \"tau_end\": 0.1,\n",
    "    #     \"decay_type\": \"exponential\",\n",
    "    #     \"frac_episodes_to_decay\": 0.1\n",
    "    # }\n",
    "    # Third best performing hyperparameters\n",
    "    # {\n",
    "    #     \"num_episodes\": 10000,\n",
    "    #     \"max_return\": -100,\n",
    "    #     \"num_tiles_per_feature\": 20,\n",
    "    #     \"num_tilings\": 1,\n",
    "    #     \"learning_rate\": 0.1,\n",
    "    #     \"tau_start\": 100000,\n",
    "    #     \"tau_end\": 0.1,\n",
    "    #     \"decay_type\": \"exponential\",\n",
    "    #     \"frac_episodes_to_decay\": 0.1\n",
    "    # }\n",
    "    \n",
    "]\n",
    "\n",
    "sarsa_hyperparameter_list = [\n",
    "    \n",
    "    # Best performing hyperparameters\n",
    "    {\n",
    "        \"num_episodes\": 10000,\n",
    "        \"max_return\": 500,\n",
    "        \"num_tiles_per_feature\": 30,\n",
    "        \"num_tilings\": 1,\n",
    "        \"learning_rate\": 0.1,\n",
    "        \"eps_start\": 1,\n",
    "        \"eps_end\": 0.01,\n",
    "        \"decay_type\": \"linear\",\n",
    "        \"frac_episodes_to_decay\": 0.5\n",
    "    }\n",
    "    # Second best performing hyperparameters\n",
    "    # {\n",
    "    #     \"num_episodes\": 10000,\n",
    "    #     \"max_return\": -100,\n",
    "    #     \"num_tiles_per_feature\": 20,\n",
    "    #     \"num_tilings\": 4,\n",
    "    #     \"learning_rate\": 0.1,\n",
    "    #     \"eps_start\": 1,\n",
    "    #     \"eps_end\": 0.01,\n",
    "    #     \"decay_type\": \"exponential\",\n",
    "    #     \"frac_episodes_to_decay\": 0.5\n",
    "    # }\n",
    "    # Third best performing hyperparameters\n",
    "    # {\n",
    "    #     \"num_episodes\": 10000,\n",
    "    #     \"max_return\": -100,\n",
    "    #     \"num_tiles_per_feature\": 20,\n",
    "    #     \"num_tilings\": 4,\n",
    "    #     \"learning_rate\": 0.1,\n",
    "    #     \"eps_start\": 1,\n",
    "    #     \"eps_end\": 0.01,\n",
    "    #     \"decay_type\": \"exponential\",\n",
    "    #     \"frac_episodes_to_decay\": 0.5\n",
    "    # }\n",
    "]\n"
   ]
  },
  {
   "cell_type": "markdown",
   "id": "9c5c37b6-876d-4bdf-a5b7-79043c1c4ca2",
   "metadata": {},
   "source": [
    "## Helper functions"
   ]
  },
  {
   "cell_type": "code",
   "execution_count": 3,
   "id": "47bf95a7-91f2-4ee6-9402-8b8a0b148f16",
   "metadata": {},
   "outputs": [],
   "source": [
    "class ObsWrapper(gym.ObservationWrapper):\n",
    "\n",
    "    def __init__(self, env: gym.Env, f):\n",
    "        super().__init__(env)\n",
    "        assert callable(f)\n",
    "        self.f = f\n",
    "\n",
    "        self.observation_space.high = f(env.observation_space.high)\n",
    "        self.observation_space.low = f(env.observation_space.low)\n",
    "\n",
    "    def observation(self, observation):\n",
    "        return self.f(observation)\n",
    "\n",
    "def episode_trigger(x):\n",
    "    if x % 1000 == 0:\n",
    "        return True\n",
    "    return False"
   ]
  },
  {
   "cell_type": "markdown",
   "id": "447285fe-1a90-4bce-a7cd-eb0a06ffd0b6",
   "metadata": {},
   "source": [
    "## Running experiments"
   ]
  },
  {
   "cell_type": "code",
   "execution_count": null,
   "id": "7ea2a030-617b-4470-9245-a44182a62460",
   "metadata": {},
   "outputs": [
    {
     "name": "stderr",
     "output_type": "stream",
     "text": [
      "/home/lalit/my_venvs/rl_env/lib/python3.10/site-packages/gymnasium/wrappers/rendering.py:283: UserWarning: \u001b[33mWARN: Overwriting existing videos at /home/lalit/acads/DA6400/Assignment1/DA6400_RL_PA1/backups/cartpole-qlearning-visualizations folder (try specifying a different `video_folder` for the `RecordVideo` wrapper if this is not desired)\u001b[0m\n",
      "  logger.warn(\n",
      "Training:  57%|██████████████▎          | 5729/10000 [01:05<03:38, 19.59it/s, Mean Score=295]"
     ]
    }
   ],
   "source": [
    "env = gym.make('CartPole-v1', render_mode=\"rgb_array\")\n",
    "env = ObsWrapper(env,\n",
    "                 lambda obs: np.clip(obs, -5, 5))\n",
    "env = RecordVideo(\n",
    "    env,\n",
    "    video_folder=\"backups/cartpole-qlearning-visualizations\",\n",
    "    name_prefix=\"eval\",\n",
    "    episode_trigger=episode_trigger\n",
    ")\n",
    "\n",
    "qlearning_agent = QLearningAgent(\n",
    "    state_space=env.observation_space,\n",
    "    action_space=env.action_space,\n",
    "    seed=0\n",
    ")\n",
    "\n",
    "sarsa_agent = SARSAAgent(\n",
    "    state_space=env.observation_space,\n",
    "    action_space=env.action_space,\n",
    "    seed=0\n",
    ")\n",
    "\n",
    "trainer = Trainer()\n",
    "qlearning_results = test_agent(env, qlearning_agent, trainer, qlearning_hyperparameter_list, num_experiments=1)\n",
    "sarsa_results = test_agent(env, sarsa_agent, trainer, sarsa_hyperparameter_list, num_experiments=1)\n",
    "\n",
    "env.close()"
   ]
  },
  {
   "cell_type": "code",
   "execution_count": null,
   "id": "0c7c83d6-3da6-4b04-8691-e54800f47919",
   "metadata": {},
   "outputs": [],
   "source": [
    "combined_results = qlearning_results + sarsa_results\n",
    "plot_test_results(combined_results, [0, 1])"
   ]
  }
 ],
 "metadata": {
  "kernelspec": {
   "display_name": "rl_env",
   "language": "python",
   "name": "rl_env"
  },
  "language_info": {
   "codemirror_mode": {
    "name": "ipython",
    "version": 3
   },
   "file_extension": ".py",
   "mimetype": "text/x-python",
   "name": "python",
   "nbconvert_exporter": "python",
   "pygments_lexer": "ipython3",
   "version": "3.10.12"
  }
 },
 "nbformat": 4,
 "nbformat_minor": 5
}
